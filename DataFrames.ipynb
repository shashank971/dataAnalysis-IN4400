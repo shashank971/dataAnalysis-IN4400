{
 "cells": [
  {
   "cell_type": "markdown",
   "metadata": {},
   "source": [
    "# DataFrames & Data Analysis"
   ]
  },
  {
   "cell_type": "markdown",
   "metadata": {},
   "source": [
    "## What is a DataFrame ?"
   ]
  },
  {
   "cell_type": "markdown",
   "metadata": {},
   "source": [
    "A DataFrame is defined as a two-dimensional labeled data structures with columns of potentially different types. It can consists of: \n",
    "1. DataFrame\n",
    "2. Series\n",
    "3. A Numpy Array\n",
    "4. Dictionaries"
   ]
  },
  {
   "cell_type": "code",
   "execution_count": 22,
   "metadata": {
    "collapsed": false
   },
   "outputs": [],
   "source": [
    "import pandas as pd\n",
    "import matplotlib.pyplot as plt\n",
    "plt.style.use('ggplot')\n",
    "% matplotlib inline"
   ]
  },
  {
   "cell_type": "markdown",
   "metadata": {},
   "source": [
    "### Read the dataset"
   ]
  },
  {
   "cell_type": "code",
   "execution_count": 6,
   "metadata": {
    "collapsed": false
   },
   "outputs": [],
   "source": [
    "df = pd.ExcelFile(\"Obes-phys-acti-diet-eng-2014-tab.xls\")"
   ]
  },
  {
   "cell_type": "code",
   "execution_count": 7,
   "metadata": {
    "collapsed": false
   },
   "outputs": [
    {
     "name": "stdout",
     "output_type": "stream",
     "text": [
      "[u'Chapter 7', u'7.1', u'7.2', u'7.3', u'7.4', u'7.5', u'7.6', u'7.7', u'7.8', u'7.9', u'7.10']\n"
     ]
    }
   ],
   "source": [
    "print df.sheet_names"
   ]
  },
  {
   "cell_type": "markdown",
   "metadata": {},
   "source": [
    "### Let's Process and clean the data !!"
   ]
  },
  {
   "cell_type": "code",
   "execution_count": 8,
   "metadata": {
    "collapsed": false
   },
   "outputs": [
    {
     "name": "stdout",
     "output_type": "stream",
     "text": [
      "   Unnamed: 0  Total  Under 16  16-24  25-34  35-44  45-54  55-64  65-74  \\\n",
      "0         NaN    NaN       NaN    NaN    NaN    NaN    NaN    NaN    NaN   \n",
      "1     2002/03   1275       400     65    136    289    216     94     52   \n",
      "2     2003/04   1711       579     67    174    391    273    151     52   \n",
      "3     2004/05   2035       547    107    287    487    364    174     36   \n",
      "4     2005/06   2564       583     96    341    637    554    258     72   \n",
      "5     2006/07   3862       656    184    461   1069    872    459    118   \n",
      "6     2007/08   5018       747    228    564   1469   1198    598    157   \n",
      "7     2008/09   7988       775    322   1013   2359   2133   1099    221   \n",
      "8     2009/10  10571       632    361   1348   3132   3076   1555    378   \n",
      "9     2010/11  11574       525    375   1425   3277   3573   1820    456   \n",
      "10    2011/12  11736       495    391   1484   3104   3581   2119    468   \n",
      "11    2012/13  10957       556    356   1437   2744   3305   1965    495   \n",
      "\n",
      "    75 and over  \n",
      "0           NaN  \n",
      "1            23  \n",
      "2            24  \n",
      "3            32  \n",
      "4            20  \n",
      "5            43  \n",
      "6            53  \n",
      "7            63  \n",
      "8            87  \n",
      "9           115  \n",
      "10           94  \n",
      "11           99  \n"
     ]
    }
   ],
   "source": [
    "df_age = df.parse(u'7.2', skiprows=4, skipfooter=14)\n",
    "print df_age"
   ]
  },
  {
   "cell_type": "markdown",
   "metadata": {},
   "source": [
    "#### \"NaN\" means \"Not a Number\". It signifies that in the original file, the first row is empty. \n",
    "#### \"Unnamed: 0\" is displayed as the header name is missing in the original file."
   ]
  },
  {
   "cell_type": "markdown",
   "metadata": {},
   "source": [
    "### Next two tasks: \n",
    "1. Rename header to \"Year\"\n",
    "2. Remove empty rows."
   ]
  },
  {
   "cell_type": "code",
   "execution_count": 9,
   "metadata": {
    "collapsed": true
   },
   "outputs": [],
   "source": [
    "df_age.rename(columns={u'Unnamed: 0': u'Year'}, inplace=True)"
   ]
  },
  {
   "cell_type": "markdown",
   "metadata": {},
   "source": [
    "#### Inplace=True tells Pandas to modify the existing object and not create a new object."
   ]
  },
  {
   "cell_type": "code",
   "execution_count": 10,
   "metadata": {
    "collapsed": true
   },
   "outputs": [],
   "source": [
    "df_age.dropna(inplace=True)"
   ]
  },
  {
   "cell_type": "code",
   "execution_count": 11,
   "metadata": {
    "collapsed": false
   },
   "outputs": [
    {
     "data": {
      "text/html": [
       "<div>\n",
       "<table border=\"1\" class=\"dataframe\">\n",
       "  <thead>\n",
       "    <tr style=\"text-align: right;\">\n",
       "      <th></th>\n",
       "      <th>Year</th>\n",
       "      <th>Total</th>\n",
       "      <th>Under 16</th>\n",
       "      <th>16-24</th>\n",
       "      <th>25-34</th>\n",
       "      <th>35-44</th>\n",
       "      <th>45-54</th>\n",
       "      <th>55-64</th>\n",
       "      <th>65-74</th>\n",
       "      <th>75 and over</th>\n",
       "    </tr>\n",
       "  </thead>\n",
       "  <tbody>\n",
       "    <tr>\n",
       "      <th>1</th>\n",
       "      <td>2002/03</td>\n",
       "      <td>1275</td>\n",
       "      <td>400</td>\n",
       "      <td>65</td>\n",
       "      <td>136</td>\n",
       "      <td>289</td>\n",
       "      <td>216</td>\n",
       "      <td>94</td>\n",
       "      <td>52</td>\n",
       "      <td>23</td>\n",
       "    </tr>\n",
       "    <tr>\n",
       "      <th>2</th>\n",
       "      <td>2003/04</td>\n",
       "      <td>1711</td>\n",
       "      <td>579</td>\n",
       "      <td>67</td>\n",
       "      <td>174</td>\n",
       "      <td>391</td>\n",
       "      <td>273</td>\n",
       "      <td>151</td>\n",
       "      <td>52</td>\n",
       "      <td>24</td>\n",
       "    </tr>\n",
       "    <tr>\n",
       "      <th>3</th>\n",
       "      <td>2004/05</td>\n",
       "      <td>2035</td>\n",
       "      <td>547</td>\n",
       "      <td>107</td>\n",
       "      <td>287</td>\n",
       "      <td>487</td>\n",
       "      <td>364</td>\n",
       "      <td>174</td>\n",
       "      <td>36</td>\n",
       "      <td>32</td>\n",
       "    </tr>\n",
       "    <tr>\n",
       "      <th>4</th>\n",
       "      <td>2005/06</td>\n",
       "      <td>2564</td>\n",
       "      <td>583</td>\n",
       "      <td>96</td>\n",
       "      <td>341</td>\n",
       "      <td>637</td>\n",
       "      <td>554</td>\n",
       "      <td>258</td>\n",
       "      <td>72</td>\n",
       "      <td>20</td>\n",
       "    </tr>\n",
       "    <tr>\n",
       "      <th>5</th>\n",
       "      <td>2006/07</td>\n",
       "      <td>3862</td>\n",
       "      <td>656</td>\n",
       "      <td>184</td>\n",
       "      <td>461</td>\n",
       "      <td>1069</td>\n",
       "      <td>872</td>\n",
       "      <td>459</td>\n",
       "      <td>118</td>\n",
       "      <td>43</td>\n",
       "    </tr>\n",
       "    <tr>\n",
       "      <th>6</th>\n",
       "      <td>2007/08</td>\n",
       "      <td>5018</td>\n",
       "      <td>747</td>\n",
       "      <td>228</td>\n",
       "      <td>564</td>\n",
       "      <td>1469</td>\n",
       "      <td>1198</td>\n",
       "      <td>598</td>\n",
       "      <td>157</td>\n",
       "      <td>53</td>\n",
       "    </tr>\n",
       "    <tr>\n",
       "      <th>7</th>\n",
       "      <td>2008/09</td>\n",
       "      <td>7988</td>\n",
       "      <td>775</td>\n",
       "      <td>322</td>\n",
       "      <td>1013</td>\n",
       "      <td>2359</td>\n",
       "      <td>2133</td>\n",
       "      <td>1099</td>\n",
       "      <td>221</td>\n",
       "      <td>63</td>\n",
       "    </tr>\n",
       "    <tr>\n",
       "      <th>8</th>\n",
       "      <td>2009/10</td>\n",
       "      <td>10571</td>\n",
       "      <td>632</td>\n",
       "      <td>361</td>\n",
       "      <td>1348</td>\n",
       "      <td>3132</td>\n",
       "      <td>3076</td>\n",
       "      <td>1555</td>\n",
       "      <td>378</td>\n",
       "      <td>87</td>\n",
       "    </tr>\n",
       "    <tr>\n",
       "      <th>9</th>\n",
       "      <td>2010/11</td>\n",
       "      <td>11574</td>\n",
       "      <td>525</td>\n",
       "      <td>375</td>\n",
       "      <td>1425</td>\n",
       "      <td>3277</td>\n",
       "      <td>3573</td>\n",
       "      <td>1820</td>\n",
       "      <td>456</td>\n",
       "      <td>115</td>\n",
       "    </tr>\n",
       "    <tr>\n",
       "      <th>10</th>\n",
       "      <td>2011/12</td>\n",
       "      <td>11736</td>\n",
       "      <td>495</td>\n",
       "      <td>391</td>\n",
       "      <td>1484</td>\n",
       "      <td>3104</td>\n",
       "      <td>3581</td>\n",
       "      <td>2119</td>\n",
       "      <td>468</td>\n",
       "      <td>94</td>\n",
       "    </tr>\n",
       "    <tr>\n",
       "      <th>11</th>\n",
       "      <td>2012/13</td>\n",
       "      <td>10957</td>\n",
       "      <td>556</td>\n",
       "      <td>356</td>\n",
       "      <td>1437</td>\n",
       "      <td>2744</td>\n",
       "      <td>3305</td>\n",
       "      <td>1965</td>\n",
       "      <td>495</td>\n",
       "      <td>99</td>\n",
       "    </tr>\n",
       "  </tbody>\n",
       "</table>\n",
       "</div>"
      ],
      "text/plain": [
       "       Year  Total  Under 16  16-24  25-34  35-44  45-54  55-64  65-74  \\\n",
       "1   2002/03   1275       400     65    136    289    216     94     52   \n",
       "2   2003/04   1711       579     67    174    391    273    151     52   \n",
       "3   2004/05   2035       547    107    287    487    364    174     36   \n",
       "4   2005/06   2564       583     96    341    637    554    258     72   \n",
       "5   2006/07   3862       656    184    461   1069    872    459    118   \n",
       "6   2007/08   5018       747    228    564   1469   1198    598    157   \n",
       "7   2008/09   7988       775    322   1013   2359   2133   1099    221   \n",
       "8   2009/10  10571       632    361   1348   3132   3076   1555    378   \n",
       "9   2010/11  11574       525    375   1425   3277   3573   1820    456   \n",
       "10  2011/12  11736       495    391   1484   3104   3581   2119    468   \n",
       "11  2012/13  10957       556    356   1437   2744   3305   1965    495   \n",
       "\n",
       "    75 and over  \n",
       "1            23  \n",
       "2            24  \n",
       "3            32  \n",
       "4            20  \n",
       "5            43  \n",
       "6            53  \n",
       "7            63  \n",
       "8            87  \n",
       "9           115  \n",
       "10           94  \n",
       "11           99  "
      ]
     },
     "execution_count": 11,
     "metadata": {},
     "output_type": "execute_result"
    }
   ],
   "source": [
    "df_age"
   ]
  },
  {
   "cell_type": "markdown",
   "metadata": {},
   "source": [
    "### Set Index"
   ]
  },
  {
   "cell_type": "code",
   "execution_count": 16,
   "metadata": {
    "collapsed": true
   },
   "outputs": [],
   "source": [
    "df_age.set_index('Year', inplace=True)"
   ]
  },
  {
   "cell_type": "code",
   "execution_count": 17,
   "metadata": {
    "collapsed": false
   },
   "outputs": [
    {
     "data": {
      "text/html": [
       "<div>\n",
       "<table border=\"1\" class=\"dataframe\">\n",
       "  <thead>\n",
       "    <tr style=\"text-align: right;\">\n",
       "      <th></th>\n",
       "      <th>Total</th>\n",
       "      <th>Under 16</th>\n",
       "      <th>16-24</th>\n",
       "      <th>25-34</th>\n",
       "      <th>35-44</th>\n",
       "      <th>45-54</th>\n",
       "      <th>55-64</th>\n",
       "      <th>65-74</th>\n",
       "      <th>75 and over</th>\n",
       "    </tr>\n",
       "    <tr>\n",
       "      <th>Year</th>\n",
       "      <th></th>\n",
       "      <th></th>\n",
       "      <th></th>\n",
       "      <th></th>\n",
       "      <th></th>\n",
       "      <th></th>\n",
       "      <th></th>\n",
       "      <th></th>\n",
       "      <th></th>\n",
       "    </tr>\n",
       "  </thead>\n",
       "  <tbody>\n",
       "    <tr>\n",
       "      <th>2002/03</th>\n",
       "      <td>1275</td>\n",
       "      <td>400</td>\n",
       "      <td>65</td>\n",
       "      <td>136</td>\n",
       "      <td>289</td>\n",
       "      <td>216</td>\n",
       "      <td>94</td>\n",
       "      <td>52</td>\n",
       "      <td>23</td>\n",
       "    </tr>\n",
       "    <tr>\n",
       "      <th>2003/04</th>\n",
       "      <td>1711</td>\n",
       "      <td>579</td>\n",
       "      <td>67</td>\n",
       "      <td>174</td>\n",
       "      <td>391</td>\n",
       "      <td>273</td>\n",
       "      <td>151</td>\n",
       "      <td>52</td>\n",
       "      <td>24</td>\n",
       "    </tr>\n",
       "    <tr>\n",
       "      <th>2004/05</th>\n",
       "      <td>2035</td>\n",
       "      <td>547</td>\n",
       "      <td>107</td>\n",
       "      <td>287</td>\n",
       "      <td>487</td>\n",
       "      <td>364</td>\n",
       "      <td>174</td>\n",
       "      <td>36</td>\n",
       "      <td>32</td>\n",
       "    </tr>\n",
       "    <tr>\n",
       "      <th>2005/06</th>\n",
       "      <td>2564</td>\n",
       "      <td>583</td>\n",
       "      <td>96</td>\n",
       "      <td>341</td>\n",
       "      <td>637</td>\n",
       "      <td>554</td>\n",
       "      <td>258</td>\n",
       "      <td>72</td>\n",
       "      <td>20</td>\n",
       "    </tr>\n",
       "    <tr>\n",
       "      <th>2006/07</th>\n",
       "      <td>3862</td>\n",
       "      <td>656</td>\n",
       "      <td>184</td>\n",
       "      <td>461</td>\n",
       "      <td>1069</td>\n",
       "      <td>872</td>\n",
       "      <td>459</td>\n",
       "      <td>118</td>\n",
       "      <td>43</td>\n",
       "    </tr>\n",
       "    <tr>\n",
       "      <th>2007/08</th>\n",
       "      <td>5018</td>\n",
       "      <td>747</td>\n",
       "      <td>228</td>\n",
       "      <td>564</td>\n",
       "      <td>1469</td>\n",
       "      <td>1198</td>\n",
       "      <td>598</td>\n",
       "      <td>157</td>\n",
       "      <td>53</td>\n",
       "    </tr>\n",
       "    <tr>\n",
       "      <th>2008/09</th>\n",
       "      <td>7988</td>\n",
       "      <td>775</td>\n",
       "      <td>322</td>\n",
       "      <td>1013</td>\n",
       "      <td>2359</td>\n",
       "      <td>2133</td>\n",
       "      <td>1099</td>\n",
       "      <td>221</td>\n",
       "      <td>63</td>\n",
       "    </tr>\n",
       "    <tr>\n",
       "      <th>2009/10</th>\n",
       "      <td>10571</td>\n",
       "      <td>632</td>\n",
       "      <td>361</td>\n",
       "      <td>1348</td>\n",
       "      <td>3132</td>\n",
       "      <td>3076</td>\n",
       "      <td>1555</td>\n",
       "      <td>378</td>\n",
       "      <td>87</td>\n",
       "    </tr>\n",
       "    <tr>\n",
       "      <th>2010/11</th>\n",
       "      <td>11574</td>\n",
       "      <td>525</td>\n",
       "      <td>375</td>\n",
       "      <td>1425</td>\n",
       "      <td>3277</td>\n",
       "      <td>3573</td>\n",
       "      <td>1820</td>\n",
       "      <td>456</td>\n",
       "      <td>115</td>\n",
       "    </tr>\n",
       "    <tr>\n",
       "      <th>2011/12</th>\n",
       "      <td>11736</td>\n",
       "      <td>495</td>\n",
       "      <td>391</td>\n",
       "      <td>1484</td>\n",
       "      <td>3104</td>\n",
       "      <td>3581</td>\n",
       "      <td>2119</td>\n",
       "      <td>468</td>\n",
       "      <td>94</td>\n",
       "    </tr>\n",
       "    <tr>\n",
       "      <th>2012/13</th>\n",
       "      <td>10957</td>\n",
       "      <td>556</td>\n",
       "      <td>356</td>\n",
       "      <td>1437</td>\n",
       "      <td>2744</td>\n",
       "      <td>3305</td>\n",
       "      <td>1965</td>\n",
       "      <td>495</td>\n",
       "      <td>99</td>\n",
       "    </tr>\n",
       "  </tbody>\n",
       "</table>\n",
       "</div>"
      ],
      "text/plain": [
       "         Total  Under 16  16-24  25-34  35-44  45-54  55-64  65-74  \\\n",
       "Year                                                                 \n",
       "2002/03   1275       400     65    136    289    216     94     52   \n",
       "2003/04   1711       579     67    174    391    273    151     52   \n",
       "2004/05   2035       547    107    287    487    364    174     36   \n",
       "2005/06   2564       583     96    341    637    554    258     72   \n",
       "2006/07   3862       656    184    461   1069    872    459    118   \n",
       "2007/08   5018       747    228    564   1469   1198    598    157   \n",
       "2008/09   7988       775    322   1013   2359   2133   1099    221   \n",
       "2009/10  10571       632    361   1348   3132   3076   1555    378   \n",
       "2010/11  11574       525    375   1425   3277   3573   1820    456   \n",
       "2011/12  11736       495    391   1484   3104   3581   2119    468   \n",
       "2012/13  10957       556    356   1437   2744   3305   1965    495   \n",
       "\n",
       "         75 and over  \n",
       "Year                  \n",
       "2002/03           23  \n",
       "2003/04           24  \n",
       "2004/05           32  \n",
       "2005/06           20  \n",
       "2006/07           43  \n",
       "2007/08           53  \n",
       "2008/09           63  \n",
       "2009/10           87  \n",
       "2010/11          115  \n",
       "2011/12           94  \n",
       "2012/13           99  "
      ]
     },
     "execution_count": 17,
     "metadata": {},
     "output_type": "execute_result"
    }
   ],
   "source": [
    "df_age"
   ]
  },
  {
   "cell_type": "markdown",
   "metadata": {},
   "source": [
    "### Simple Plotting"
   ]
  },
  {
   "cell_type": "code",
   "execution_count": 31,
   "metadata": {
    "collapsed": false
   },
   "outputs": [
    {
     "data": {
      "image/png": "[encoded data removed]",
      "text/plain": [
       "<matplotlib.figure.Figure at 0x10dbe8910>"
      ]
     },
     "metadata": {},
     "output_type": "display_data"
    }
   ],
   "source": [
    "df_age.plot(figsize=(10,8))\n",
    "plt.show()"
   ]
  },
  {
   "cell_type": "code",
   "execution_count": null,
   "metadata": {
    "collapsed": true
   },
   "outputs": [],
   "source": [
    "pd.DataFrame(df_age).to_csv(\"cleaned_data.csv\")"
   ]
  }
 ],
 "metadata": {
  "kernelspec": {
   "display_name": "Python 2",
   "language": "python",
   "name": "python2"
  },
  "language_info": {
   "codemirror_mode": {
    "name": "ipython",
    "version": 2
   },
   "file_extension": ".py",
   "mimetype": "text/x-python",
   "name": "python",
   "nbconvert_exporter": "python",
   "pygments_lexer": "ipython2",
   "version": "2.7.12"
  }
 },
 "nbformat": 4,
 "nbformat_minor": 0
}
